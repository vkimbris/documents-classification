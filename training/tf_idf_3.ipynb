{
 "cells": [
  {
   "cell_type": "code",
   "execution_count": 1,
   "metadata": {},
   "outputs": [],
   "source": [
    "import os\n",
    "\n",
    "import numpy as np\n",
    "import pandas as pd\n",
    "\n",
    "from sklearn.feature_extraction.text import TfidfVectorizer\n",
    "from sklearn.linear_model import LogisticRegression\n",
    "from sklearn.pipeline import Pipeline\n",
    "\n",
    "from sklearn.ensemble import RandomForestClassifier\n",
    "\n",
    "from sklearn.neural_network import \n",
    "\n",
    "from sklearn.metrics import classification_report"
   ]
  },
  {
   "cell_type": "code",
   "execution_count": 2,
   "metadata": {},
   "outputs": [],
   "source": [
    "new_files = []\n",
    "\n",
    "for file in os.listdir(\"Решения\"):\n",
    "    with open(\"Решения/\" + file) as f:\n",
    "        new_files.append(f.read())\n",
    "\n",
    "new_train_data = pd.DataFrame({\n",
    "    \"text\": new_files, \"class\": [\"Решения\"] * len(new_files)\n",
    "})"
   ]
  },
  {
   "cell_type": "code",
   "execution_count": 3,
   "metadata": {},
   "outputs": [],
   "source": [
    "train = pd.read_csv(\"train_with_text.csv\")\n",
    "test = pd.read_csv(\"test_with_text.csv\")\n",
    "\n",
    "train = pd.concat([train, new_train_data, test])"
   ]
  },
  {
   "cell_type": "code",
   "execution_count": 17,
   "metadata": {},
   "outputs": [],
   "source": [
    "vectorizer = TfidfVectorizer(max_df=0.1, min_df=0.01)"
   ]
  },
  {
   "cell_type": "code",
   "execution_count": 18,
   "metadata": {},
   "outputs": [],
   "source": [
    "X_train = train.text\n",
    "y_train = train[\"class\"]\n",
    "\n",
    "X_test = test.text\n",
    "y_test = test[\"class\"]\n",
    "\n",
    "X_train = vectorizer.fit_transform(X_train)\n",
    "X_test = vectorizer.transform(X_test)"
   ]
  },
  {
   "cell_type": "code",
   "execution_count": 19,
   "metadata": {},
   "outputs": [],
   "source": [
    "model = RandomForestClassifier().fit(X_train, y_train)"
   ]
  },
  {
   "cell_type": "code",
   "execution_count": 21,
   "metadata": {},
   "outputs": [],
   "source": [
    "pipeline = Pipeline([\n",
    "    (\"Vectorizer\", vectorizer), (\"RandomForest\", model)\n",
    "])"
   ]
  },
  {
   "cell_type": "code",
   "execution_count": 22,
   "metadata": {},
   "outputs": [
    {
     "data": {
      "text/plain": [
       "'\\nproxy - доверенность\\ncontract - договор\\nact - акт\\napplication - заявление\\norder - приказ\\ninvoice - счет\\nbill - приложение\\narrangement - соглашение\\ncontract offer - договор оферты\\nstatute - устав\\ndetermination - решение\\n'"
      ]
     },
     "execution_count": 22,
     "metadata": {},
     "output_type": "execute_result"
    }
   ],
   "source": [
    "\"\"\"\n",
    "proxy - доверенность\n",
    "contract - договор\n",
    "act - акт\n",
    "application - заявление\n",
    "order - приказ\n",
    "invoice - счет\n",
    "bill - приложение\n",
    "arrangement - соглашение\n",
    "contract offer - договор оферты\n",
    "statute - устав\n",
    "determination - решение\n",
    "\"\"\""
   ]
  },
  {
   "cell_type": "code",
   "execution_count": 23,
   "metadata": {},
   "outputs": [],
   "source": [
    "mappings = {\n",
    "    \"Акты\": \"act\",\n",
    "    \"Доверенности\": \"proxy\",\n",
    "    \"Договоры\": \"contract\",\n",
    "    \"Договоры оферты\": \"contract offer\",\n",
    "    \"Заявления\": \"application\",\n",
    "    \"Приказы\": \"order\",\n",
    "    \"Приложения\": \"bill\",\n",
    "    \"Решения\": \"determination\",\n",
    "    \"Соглашения\": \"arrangement\",\n",
    "    \"Счета\": \"invoice\",\n",
    "    \"Уставы\": \"statute\"\n",
    "}"
   ]
  },
  {
   "cell_type": "code",
   "execution_count": 24,
   "metadata": {},
   "outputs": [
    {
     "data": {
      "text/plain": [
       "['random_forest.pkl']"
      ]
     },
     "execution_count": 24,
     "metadata": {},
     "output_type": "execute_result"
    }
   ],
   "source": [
    "import joblib\n",
    "\n",
    "joblib.dump(pipeline, \"random_forest.pkl\")"
   ]
  },
  {
   "cell_type": "code",
   "execution_count": null,
   "metadata": {},
   "outputs": [],
   "source": []
  }
 ],
 "metadata": {
  "kernelspec": {
   "display_name": "Python 3",
   "language": "python",
   "name": "python3"
  },
  "language_info": {
   "codemirror_mode": {
    "name": "ipython",
    "version": 3
   },
   "file_extension": ".py",
   "mimetype": "text/x-python",
   "name": "python",
   "nbconvert_exporter": "python",
   "pygments_lexer": "ipython3",
   "version": "3.10.2"
  }
 },
 "nbformat": 4,
 "nbformat_minor": 2
}
