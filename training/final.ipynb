{
 "cells": [
  {
   "cell_type": "code",
   "execution_count": 9,
   "metadata": {},
   "outputs": [],
   "source": [
    "import joblib\n",
    "import pandas as pd"
   ]
  },
  {
   "cell_type": "code",
   "execution_count": 26,
   "metadata": {},
   "outputs": [],
   "source": [
    "pipeline = joblib.load(\"random_forest.pkl\")"
   ]
  },
  {
   "cell_type": "code",
   "execution_count": 27,
   "metadata": {},
   "outputs": [
    {
     "data": {
      "text/plain": [
       "'\\nproxy - доверенность\\ncontract - договор\\nact - акт\\napplication - заявление\\norder - приказ\\ninvoice - счет\\nbill - приложение\\narrangement - соглашение\\ncontract offer - договор оферты\\nstatute - устав\\ndetermination - решение\\n'"
      ]
     },
     "execution_count": 27,
     "metadata": {},
     "output_type": "execute_result"
    }
   ],
   "source": [
    "\"\"\"\n",
    "proxy - доверенность\n",
    "contract - договор\n",
    "act - акт\n",
    "application - заявление\n",
    "order - приказ\n",
    "invoice - счет\n",
    "bill - приложение\n",
    "arrangement - соглашение\n",
    "contract offer - договор оферты\n",
    "statute - устав\n",
    "determination - решение\n",
    "\"\"\""
   ]
  },
  {
   "cell_type": "code",
   "execution_count": 28,
   "metadata": {},
   "outputs": [],
   "source": [
    "our_mappings = {\n",
    "    \"Акты\": \"act\",\n",
    "    \"Доверенности\": \"proxy\",\n",
    "    \"Договоры\": \"contract\",\n",
    "    \"Договоры оферты\": \"contract offer\",\n",
    "    \"Заявления\": \"application\",\n",
    "    \"Приказы\": \"order\",\n",
    "    \"Приложения\": \"bill\",\n",
    "    \"Решения\": \"determination\",\n",
    "    \"Соглашения\": \"arrangement\",\n",
    "    \"Счета\": \"invoice\",\n",
    "    \"Уставы\": \"statute\"\n",
    "}\n",
    "\n",
    "their_mappings = {\n",
    "    \"proxy\": 1,\n",
    "    \"contract\": 2,\n",
    "    \"act\": 3,\n",
    "    \"application\": 4,\n",
    "    \"order\": 5,\n",
    "    \"invoice\": 6,\n",
    "    \"bill\": 7,\n",
    "    \"arrangement\": 8,\n",
    "    \"contract offer\": 9,\n",
    "    \"statute\": 10,\n",
    "    \"determination\": 11\n",
    "}"
   ]
  },
  {
   "cell_type": "code",
   "execution_count": 29,
   "metadata": {},
   "outputs": [],
   "source": [
    "dataset = pd.read_csv(\"FINAL/dataset.csv\", sep=\"|\")"
   ]
  },
  {
   "cell_type": "code",
   "execution_count": 30,
   "metadata": {},
   "outputs": [],
   "source": [
    "texts = dataset.document_text\n",
    "index = dataset.document_id"
   ]
  },
  {
   "cell_type": "code",
   "execution_count": 31,
   "metadata": {},
   "outputs": [],
   "source": [
    "predictions = pipeline.predict(texts)\n",
    "predictions = pd.Series(predictions)"
   ]
  },
  {
   "cell_type": "code",
   "execution_count": 32,
   "metadata": {},
   "outputs": [],
   "source": [
    "predictions = predictions.map(our_mappings)\n",
    "predictions = predictions.map(their_mappings)"
   ]
  },
  {
   "cell_type": "code",
   "execution_count": 33,
   "metadata": {},
   "outputs": [],
   "source": [
    "submission = pd.DataFrame({\n",
    "    \"document_id\": index, \"class_id\": predictions\n",
    "})"
   ]
  },
  {
   "cell_type": "code",
   "execution_count": 34,
   "metadata": {},
   "outputs": [],
   "source": [
    "submission.to_csv(\"submission_4.csv\", sep=\";\", index=False)"
   ]
  },
  {
   "cell_type": "code",
   "execution_count": 35,
   "metadata": {},
   "outputs": [
    {
     "data": {
      "text/html": [
       "<div>\n",
       "<style scoped>\n",
       "    .dataframe tbody tr th:only-of-type {\n",
       "        vertical-align: middle;\n",
       "    }\n",
       "\n",
       "    .dataframe tbody tr th {\n",
       "        vertical-align: top;\n",
       "    }\n",
       "\n",
       "    .dataframe thead th {\n",
       "        text-align: right;\n",
       "    }\n",
       "</style>\n",
       "<table border=\"1\" class=\"dataframe\">\n",
       "  <thead>\n",
       "    <tr style=\"text-align: right;\">\n",
       "      <th></th>\n",
       "      <th>document_id</th>\n",
       "      <th>class_id</th>\n",
       "    </tr>\n",
       "  </thead>\n",
       "  <tbody>\n",
       "    <tr>\n",
       "      <th>0</th>\n",
       "      <td>-1704473130726551677</td>\n",
       "      <td>3</td>\n",
       "    </tr>\n",
       "    <tr>\n",
       "      <th>1</th>\n",
       "      <td>-8755312099564304902</td>\n",
       "      <td>4</td>\n",
       "    </tr>\n",
       "    <tr>\n",
       "      <th>2</th>\n",
       "      <td>4407537979341024747</td>\n",
       "      <td>3</td>\n",
       "    </tr>\n",
       "    <tr>\n",
       "      <th>3</th>\n",
       "      <td>-2949797178567945855</td>\n",
       "      <td>5</td>\n",
       "    </tr>\n",
       "    <tr>\n",
       "      <th>4</th>\n",
       "      <td>-3027899216558317249</td>\n",
       "      <td>5</td>\n",
       "    </tr>\n",
       "    <tr>\n",
       "      <th>...</th>\n",
       "      <td>...</td>\n",
       "      <td>...</td>\n",
       "    </tr>\n",
       "    <tr>\n",
       "      <th>258</th>\n",
       "      <td>3405154703345778066</td>\n",
       "      <td>1</td>\n",
       "    </tr>\n",
       "    <tr>\n",
       "      <th>259</th>\n",
       "      <td>4748799364308515784</td>\n",
       "      <td>5</td>\n",
       "    </tr>\n",
       "    <tr>\n",
       "      <th>260</th>\n",
       "      <td>8934602722747847927</td>\n",
       "      <td>2</td>\n",
       "    </tr>\n",
       "    <tr>\n",
       "      <th>261</th>\n",
       "      <td>-6862048199031279271</td>\n",
       "      <td>2</td>\n",
       "    </tr>\n",
       "    <tr>\n",
       "      <th>262</th>\n",
       "      <td>-7006838930911642267</td>\n",
       "      <td>5</td>\n",
       "    </tr>\n",
       "  </tbody>\n",
       "</table>\n",
       "<p>263 rows × 2 columns</p>\n",
       "</div>"
      ],
      "text/plain": [
       "             document_id  class_id\n",
       "0   -1704473130726551677         3\n",
       "1   -8755312099564304902         4\n",
       "2    4407537979341024747         3\n",
       "3   -2949797178567945855         5\n",
       "4   -3027899216558317249         5\n",
       "..                   ...       ...\n",
       "258  3405154703345778066         1\n",
       "259  4748799364308515784         5\n",
       "260  8934602722747847927         2\n",
       "261 -6862048199031279271         2\n",
       "262 -7006838930911642267         5\n",
       "\n",
       "[263 rows x 2 columns]"
      ]
     },
     "execution_count": 35,
     "metadata": {},
     "output_type": "execute_result"
    }
   ],
   "source": [
    "submission"
   ]
  },
  {
   "cell_type": "code",
   "execution_count": null,
   "metadata": {},
   "outputs": [],
   "source": []
  }
 ],
 "metadata": {
  "kernelspec": {
   "display_name": "Python 3",
   "language": "python",
   "name": "python3"
  },
  "language_info": {
   "codemirror_mode": {
    "name": "ipython",
    "version": 3
   },
   "file_extension": ".py",
   "mimetype": "text/x-python",
   "name": "python",
   "nbconvert_exporter": "python",
   "pygments_lexer": "ipython3",
   "version": "3.10.2"
  }
 },
 "nbformat": 4,
 "nbformat_minor": 2
}
